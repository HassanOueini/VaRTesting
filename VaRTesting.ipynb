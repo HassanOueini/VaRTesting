{
 "cells": [
  {
   "cell_type": "markdown",
   "id": "be831d22-8b60-452b-bcdb-deb88e968d6f",
   "metadata": {},
   "source": [
    "## VaR Self Learning Project"
   ]
  },
  {
   "cell_type": "markdown",
   "id": "21bcb15b-fd2c-430b-9f81-eff198d21049",
   "metadata": {},
   "source": [
    "This project is just a self made way to better understand and comprehend Value at Risk or VaR. VaR is a measure of minimum loss for a porfolio / security. It is given as a probability related to the potential minimum loss, in a given time frame. IE: a portfolio can have a monthly 5% VaR of 5 million USD. This would mean that there is a 5% chance in a given month that the minimum loss will be at least 5 million USD."
   ]
  },
  {
   "cell_type": "markdown",
   "id": "b51df285-0a9f-4be9-ae23-cdf10d4e610c",
   "metadata": {},
   "source": [
    "There are 3 major ways to compute VaR. The Monte Carlo simulation method, historic simulation and parametric approach. I will cover each approach and their assumptions / methodology one at a time."
   ]
  },
  {
   "cell_type": "markdown",
   "id": "09951d85-a545-4846-95cd-d1db850a583f",
   "metadata": {},
   "source": [
    "# Parametric Method"
   ]
  },
  {
   "cell_type": "markdown",
   "id": "5f0347a8-635a-4e9a-8677-1e8c314e26b0",
   "metadata": {},
   "source": [
    "This method of calculating VaR is also called the variance-covariance method. It assumes that the distributions for the risk factors are normal. The main two things required are return expectation and standard deviation. This is a simple and straightforward approach to finding VaR however it is sensitive to return expectation, E(R), and standard deviation, σ. It is also difficult to compute if the portfolio contains options, since options would threaten the normality. "
   ]
  },
  {
   "cell_type": "markdown",
   "id": "0b8a00d7-1ebd-454a-9a2d-a6139e59d644",
   "metadata": {},
   "source": [
    "Lets take a three position portfolio containing SPY, AAPL, VCRB. Each security will have an equal weighting. "
   ]
  },
  {
   "cell_type": "code",
   "execution_count": 1,
   "id": "221d733a-0e0e-4db3-92ff-8ee7a906e8de",
   "metadata": {},
   "outputs": [],
   "source": [
    "#Importing libraries\n",
    "import yfinance as yf\n",
    "import numpy as np\n",
    "import pandas as pd"
   ]
  },
  {
   "cell_type": "code",
   "execution_count": 2,
   "id": "bc254f15-e16b-49e8-9f70-0245863cc8e1",
   "metadata": {},
   "outputs": [
    {
     "name": "stderr",
     "output_type": "stream",
     "text": [
      "[*********************100%***********************]  3 of 3 completed"
     ]
    },
    {
     "name": "stdout",
     "output_type": "stream",
     "text": [
      "Step 1: Adjusted Close Prices\n",
      "Ticker            AAPL         SPY       VCRB\n",
      "Date                                         \n",
      "2024-01-02  184.734970  466.663940  73.874931\n",
      "2024-01-03  183.351746  462.852814  73.989067\n",
      "2024-01-04  181.023163  461.361969  73.505684\n",
      "2024-01-05  180.296707  461.993896  73.313858\n",
      "2024-01-08  184.655365  468.589264  73.697502\n"
     ]
    },
    {
     "name": "stderr",
     "output_type": "stream",
     "text": [
      "\n"
     ]
    }
   ],
   "source": [
    "# Step 1: Download data\n",
    "tickers = ['SPY', 'AAPL', 'VCRB']\n",
    "data = yf.download(tickers, start='2024-01-01', end='2024-12-31')['Adj Close']\n",
    "print(\"Step 1: Adjusted Close Prices\")\n",
    "print(data.head())"
   ]
  },
  {
   "cell_type": "code",
   "execution_count": 3,
   "id": "e9996f0c-6c9a-4e81-a49e-64bff03edad7",
   "metadata": {},
   "outputs": [
    {
     "name": "stdout",
     "output_type": "stream",
     "text": [
      "Step 2: Daily Returns\n",
      "Ticker          AAPL       SPY      VCRB\n",
      "Date                                    \n",
      "2024-01-03 -0.007488 -0.008167  0.001545\n",
      "2024-01-04 -0.012700 -0.003221 -0.006533\n",
      "2024-01-05 -0.004013  0.001370 -0.002610\n",
      "2024-01-08  0.024175  0.014276  0.005233\n",
      "2024-01-09 -0.002263 -0.001517 -0.001666\n"
     ]
    }
   ],
   "source": [
    "returns = data.pct_change().dropna()\n",
    "print(\"Step 2: Daily Returns\")\n",
    "print(returns.head())"
   ]
  },
  {
   "cell_type": "code",
   "execution_count": 4,
   "id": "0dc197af-5bb6-4425-920e-3c52ee5d6705",
   "metadata": {},
   "outputs": [
    {
     "name": "stdout",
     "output_type": "stream",
     "text": [
      "Step 3: Mean Returns (Expected Return for Each Security)\n",
      "Ticker\n",
      "AAPL    0.001345\n",
      "SPY     0.000958\n",
      "VCRB    0.000118\n",
      "dtype: float64\n",
      "Covariance Matrix\n",
      "Ticker      AAPL       SPY      VCRB\n",
      "Ticker                              \n",
      "AAPL    0.000200  0.000060  0.000007\n",
      "SPY     0.000060  0.000063  0.000003\n",
      "VCRB    0.000007  0.000003  0.000011\n"
     ]
    }
   ],
   "source": [
    "# Step 3: Calculate metrics for parametric VaR\n",
    "weights = np.array([1/3, 1/3, 1/3])  # Equal weighting\n",
    "mean_returns = returns.mean()  # Expected returns\n",
    "cov_matrix = returns.cov()  # Covariance matrix\n",
    "print(\"Step 3: Mean Returns (Expected Return for Each Security)\")\n",
    "print(mean_returns)\n",
    "print(\"Covariance Matrix\")\n",
    "print(cov_matrix)"
   ]
  },
  {
   "cell_type": "code",
   "execution_count": 5,
   "id": "d58701cd-ec0f-49af-8290-341b9a02d83b",
   "metadata": {},
   "outputs": [
    {
     "name": "stdout",
     "output_type": "stream",
     "text": [
      "Step 3 (continued): Portfolio Metrics\n",
      "Expected Portfolio Return: 0.0008\n",
      "Portfolio Standard Deviation: 0.0068\n",
      "\n"
     ]
    }
   ],
   "source": [
    "# Portfolio metrics\n",
    "expected_return = np.dot(weights, mean_returns)  # Portfolio expected return\n",
    "portfolio_std = np.sqrt(np.dot(weights.T, np.dot(cov_matrix, weights)))  # Portfolio std deviation\n",
    "print(\"Step 3 (continued): Portfolio Metrics\")\n",
    "print(f\"Expected Portfolio Return: {expected_return:.4f}\")\n",
    "print(f\"Portfolio Standard Deviation: {portfolio_std:.4f}\\n\")\n"
   ]
  },
  {
   "cell_type": "code",
   "execution_count": 6,
   "id": "9d9a330d-fc96-4782-b8c6-d0c0f3a5908c",
   "metadata": {},
   "outputs": [
    {
     "name": "stdout",
     "output_type": "stream",
     "text": [
      "Step 4: Parametric VaR Calculation\n",
      "Parametric VaR (95% confidence): 0.0104\n",
      "\n"
     ]
    }
   ],
   "source": [
    "# Step 4: Compute parametric VaR\n",
    "confidence_level = 0.95\n",
    "z_score = 1.645  # Z-score for 95% confidence level\n",
    "VaR = z_score * portfolio_std - expected_return\n",
    "print(\"Step 4: Parametric VaR Calculation\")\n",
    "print(f\"Parametric VaR (95% confidence): {VaR:.4f}\\n\")"
   ]
  },
  {
   "cell_type": "markdown",
   "id": "cafac98d-e990-4c00-bec7-a26feb915897",
   "metadata": {},
   "source": [
    "Lets assume this portfolio value is 5 million USD. This means that there is a 5 percent chance there will be a minimum loss of at least 51,500 or 1.03% of the portfolio on a given day. However we can also adjust this so it is on a monthly basis instead."
   ]
  },
  {
   "cell_type": "code",
   "execution_count": 7,
   "id": "00b56ae3-5e9f-4976-b518-aada70dfdc11",
   "metadata": {},
   "outputs": [
    {
     "name": "stdout",
     "output_type": "stream",
     "text": [
      "Monthly Portfolio Metrics:\n",
      "Monthly Expected Return: 0.0161\n",
      "Monthly Standard Deviation: 0.0304\n",
      "Parametric VaR (95% confidence, Monthly): 0.0338\n"
     ]
    }
   ],
   "source": [
    "# Monthly adjustments\n",
    "monthly_expected_return = expected_return * 20\n",
    "monthly_portfolio_std = portfolio_std * np.sqrt(20)\n",
    "\n",
    "print(\"Monthly Portfolio Metrics:\")\n",
    "print(f\"Monthly Expected Return: {monthly_expected_return:.4f}\")\n",
    "print(f\"Monthly Standard Deviation: {monthly_portfolio_std:.4f}\")\n",
    "\n",
    "# Recalculate Monthly VaR\n",
    "monthly_VaR = z_score * monthly_portfolio_std - monthly_expected_return\n",
    "print(f\"Parametric VaR (95% confidence, Monthly): {monthly_VaR:.4f}\")"
   ]
  },
  {
   "cell_type": "markdown",
   "id": "69a38933-6837-461a-82c7-45f6dab011c5",
   "metadata": {},
   "source": [
    "This means that during a month, with 20 trading days, there is a 5 percent chance of a minimum loss of 3.36% or 168,000"
   ]
  },
  {
   "cell_type": "markdown",
   "id": "c27e353f-0916-44f9-a503-37a428111d66",
   "metadata": {},
   "source": [
    "# Historical Simulation Approach"
   ]
  },
  {
   "cell_type": "markdown",
   "id": "d6e71341-89d8-40c1-9df9-ebbb71578116",
   "metadata": {},
   "source": [
    "We will be using the same portfolio under the historical approach with the same assumptions. A big factor that can affect VaR will using historical simulation is if any major events occured. If something major occured then the data no longer becomes representitive. Major events could include a major contraction in the market, a war breaking out, elections and other macrofactors. Due to this the more data, the longer the period is, the higher the chance of bad data. "
   ]
  },
  {
   "cell_type": "code",
   "execution_count": 8,
   "id": "d4ca07ac-3248-4f8f-8511-f6b6c240c0ea",
   "metadata": {},
   "outputs": [
    {
     "name": "stdout",
     "output_type": "stream",
     "text": [
      "Date\n",
      "2024-01-03   -0.004703\n",
      "2024-01-04   -0.007485\n",
      "2024-01-05   -0.001751\n",
      "2024-01-08    0.014561\n",
      "2024-01-09   -0.001815\n",
      "                ...   \n",
      "2024-12-23    0.002012\n",
      "2024-12-24    0.007760\n",
      "2024-12-26    0.001588\n",
      "2024-12-27   -0.008429\n",
      "2024-12-30   -0.006682\n",
      "Length: 250, dtype: float64\n"
     ]
    }
   ],
   "source": [
    "# Step 1: Calculate portfolio returns\n",
    "# Multiply individual returns by weights and sum for each day\n",
    "portfolio_returns = returns.dot(weights)\n",
    "print(portfolio_returns)"
   ]
  },
  {
   "cell_type": "code",
   "execution_count": 9,
   "id": "8cb4531f-5e35-47ba-b086-67c5bc3be6c0",
   "metadata": {},
   "outputs": [
    {
     "name": "stdout",
     "output_type": "stream",
     "text": [
      "Date\n",
      "2024-08-05   -0.025976\n",
      "2024-12-18   -0.019189\n",
      "2024-07-24   -0.017790\n",
      "2024-09-03   -0.014239\n",
      "2024-04-15   -0.013592\n",
      "                ...   \n",
      "2024-01-08    0.014561\n",
      "2024-04-11    0.016272\n",
      "2024-09-19    0.017623\n",
      "2024-05-03    0.025900\n",
      "2024-06-11    0.026366\n",
      "Length: 250, dtype: float64\n"
     ]
    }
   ],
   "source": [
    "# Step 2: Sort portfolio returns\n",
    "sorted_returns = portfolio_returns.sort_values()\n",
    "print(sorted_returns)"
   ]
  },
  {
   "cell_type": "code",
   "execution_count": 10,
   "id": "e2350749-dcf8-454f-a8b2-1b0c803bba1c",
   "metadata": {},
   "outputs": [
    {
     "name": "stdout",
     "output_type": "stream",
     "text": [
      "Step 3: Historical VaR Calculation\n",
      "Historical VaR (95% confidence): 1.0973%\n"
     ]
    }
   ],
   "source": [
    "# Step 3: Calculate historical VaR\n",
    "confidence_level = 0.95\n",
    "var_percentile = int((1 - confidence_level) * len(sorted_returns))\n",
    "historical_VaR = -sorted_returns.iloc[var_percentile]\n",
    "# Output results\n",
    "print(\"Step 3: Historical VaR Calculation\")\n",
    "print(f\"Historical VaR (95% confidence): {historical_VaR:.4%}\")"
   ]
  },
  {
   "cell_type": "markdown",
   "id": "be1fca1b-49b0-4f48-86ab-1f2725292326",
   "metadata": {},
   "source": [
    "This means that using the historical simulation method our 5% VaR for the portfolio is 1.0973%. Or that there is a 5% chance of losing at least 54,865 in a single trading day. Lets compute the monthly VaR now"
   ]
  },
  {
   "cell_type": "code",
   "execution_count": 11,
   "id": "a20595b0-2239-4dcf-abd9-5e7896f49efb",
   "metadata": {},
   "outputs": [
    {
     "name": "stdout",
     "output_type": "stream",
     "text": [
      "Date\n",
      "2024-01-03   -0.004703\n",
      "2024-01-04   -0.007485\n",
      "2024-01-05   -0.001751\n",
      "2024-01-08    0.014561\n",
      "2024-01-09   -0.001815\n",
      "                ...   \n",
      "2024-12-23    0.002012\n",
      "2024-12-24    0.007760\n",
      "2024-12-26    0.001588\n",
      "2024-12-27   -0.008429\n",
      "2024-12-30   -0.006682\n",
      "Length: 250, dtype: float64\n"
     ]
    }
   ],
   "source": [
    "# Step 1: Calculate portfolio returns (daily)\n",
    "portfolio_returns = returns.dot(weights)\n",
    "print(portfolio_returns)\n"
   ]
  },
  {
   "cell_type": "code",
   "execution_count": 12,
   "id": "7e16e684-cf97-4ef1-b0b0-f089676433d2",
   "metadata": {},
   "outputs": [
    {
     "name": "stdout",
     "output_type": "stream",
     "text": [
      "Date\n",
      "2024-01-31    0.006744\n",
      "2024-02-29    0.006921\n",
      "2024-03-31   -0.002860\n",
      "2024-04-30   -0.022901\n",
      "2024-05-31    0.064659\n",
      "2024-06-30    0.046532\n",
      "2024-07-31    0.030690\n",
      "2024-08-31    0.024428\n",
      "2024-09-30    0.018043\n",
      "2024-10-31   -0.020079\n",
      "2024-11-30    0.040032\n",
      "2024-12-31    0.009523\n",
      "Freq: M, dtype: float64\n"
     ]
    }
   ],
   "source": [
    "# Step 2: Resample daily returns to monthly returns by summing daily returns for each month\n",
    "monthly_returns = portfolio_returns.resample('M').sum()\n",
    "print(monthly_returns)\n"
   ]
  },
  {
   "cell_type": "code",
   "execution_count": 13,
   "id": "a13a3e0e-36f1-406b-830d-5182d0eb2baa",
   "metadata": {},
   "outputs": [
    {
     "name": "stdout",
     "output_type": "stream",
     "text": [
      "Date\n",
      "2024-04-30   -0.022901\n",
      "2024-10-31   -0.020079\n",
      "2024-03-31   -0.002860\n",
      "2024-01-31    0.006744\n",
      "2024-02-29    0.006921\n",
      "2024-12-31    0.009523\n",
      "2024-09-30    0.018043\n",
      "2024-08-31    0.024428\n",
      "2024-07-31    0.030690\n",
      "2024-11-30    0.040032\n",
      "2024-06-30    0.046532\n",
      "2024-05-31    0.064659\n",
      "dtype: float64\n"
     ]
    }
   ],
   "source": [
    "# Step 3: Sort the monthly returns in ascending order (to find the worst outcomes)\n",
    "sorted_monthly_returns = monthly_returns.sort_values()\n",
    "print(sorted_monthly_returns)\n"
   ]
  },
  {
   "cell_type": "code",
   "execution_count": 14,
   "id": "06d8ec3c-75b8-4bf1-bccd-12027be4952a",
   "metadata": {},
   "outputs": [
    {
     "name": "stdout",
     "output_type": "stream",
     "text": [
      "Monthly Historical VaR (95% confidence): 2.2901%\n"
     ]
    }
   ],
   "source": [
    "# Step 4: Calculate the 5th percentile (for 95% confidence level)\n",
    "confidence_level = 0.95\n",
    "var_percentile = int((1 - confidence_level) * len(sorted_monthly_returns))\n",
    "historical_monthly_VaR = -sorted_monthly_returns.iloc[var_percentile]\n",
    "\n",
    "# Output the result\n",
    "print(f\"Monthly Historical VaR (95% confidence): {historical_monthly_VaR:.4%}\")"
   ]
  },
  {
   "cell_type": "markdown",
   "id": "a1d4d620-997c-4cc2-a160-f546ce4e320b",
   "metadata": {},
   "source": []
  },
  {
   "cell_type": "markdown",
   "id": "680137ab-bf75-4e86-b299-a26d80ec9047",
   "metadata": {},
   "source": [
    "# Monte Carlo Simulation Method"
   ]
  },
  {
   "cell_type": "code",
   "execution_count": 15,
   "id": "5ac5cece-46da-4a64-8df2-0217cd5ccd59",
   "metadata": {},
   "outputs": [
    {
     "data": {
      "text/html": [
       "<div>\n",
       "<style scoped>\n",
       "    .dataframe tbody tr th:only-of-type {\n",
       "        vertical-align: middle;\n",
       "    }\n",
       "\n",
       "    .dataframe tbody tr th {\n",
       "        vertical-align: top;\n",
       "    }\n",
       "\n",
       "    .dataframe thead th {\n",
       "        text-align: right;\n",
       "    }\n",
       "</style>\n",
       "<table border=\"1\" class=\"dataframe\">\n",
       "  <thead>\n",
       "    <tr style=\"text-align: right;\">\n",
       "      <th>Ticker</th>\n",
       "      <th>AAPL</th>\n",
       "      <th>SPY</th>\n",
       "      <th>VCRB</th>\n",
       "    </tr>\n",
       "    <tr>\n",
       "      <th>Date</th>\n",
       "      <th></th>\n",
       "      <th></th>\n",
       "      <th></th>\n",
       "    </tr>\n",
       "  </thead>\n",
       "  <tbody>\n",
       "    <tr>\n",
       "      <th>2024-01-03</th>\n",
       "      <td>-0.007488</td>\n",
       "      <td>-0.008167</td>\n",
       "      <td>0.001545</td>\n",
       "    </tr>\n",
       "    <tr>\n",
       "      <th>2024-01-04</th>\n",
       "      <td>-0.012700</td>\n",
       "      <td>-0.003221</td>\n",
       "      <td>-0.006533</td>\n",
       "    </tr>\n",
       "    <tr>\n",
       "      <th>2024-01-05</th>\n",
       "      <td>-0.004013</td>\n",
       "      <td>0.001370</td>\n",
       "      <td>-0.002610</td>\n",
       "    </tr>\n",
       "    <tr>\n",
       "      <th>2024-01-08</th>\n",
       "      <td>0.024175</td>\n",
       "      <td>0.014276</td>\n",
       "      <td>0.005233</td>\n",
       "    </tr>\n",
       "    <tr>\n",
       "      <th>2024-01-09</th>\n",
       "      <td>-0.002263</td>\n",
       "      <td>-0.001517</td>\n",
       "      <td>-0.001666</td>\n",
       "    </tr>\n",
       "    <tr>\n",
       "      <th>...</th>\n",
       "      <td>...</td>\n",
       "      <td>...</td>\n",
       "      <td>...</td>\n",
       "    </tr>\n",
       "    <tr>\n",
       "      <th>2024-12-23</th>\n",
       "      <td>0.003065</td>\n",
       "      <td>0.005988</td>\n",
       "      <td>-0.003018</td>\n",
       "    </tr>\n",
       "    <tr>\n",
       "      <th>2024-12-24</th>\n",
       "      <td>0.011478</td>\n",
       "      <td>0.011115</td>\n",
       "      <td>0.000688</td>\n",
       "    </tr>\n",
       "    <tr>\n",
       "      <th>2024-12-26</th>\n",
       "      <td>0.003176</td>\n",
       "      <td>0.000067</td>\n",
       "      <td>0.001521</td>\n",
       "    </tr>\n",
       "    <tr>\n",
       "      <th>2024-12-27</th>\n",
       "      <td>-0.013242</td>\n",
       "      <td>-0.010527</td>\n",
       "      <td>-0.001518</td>\n",
       "    </tr>\n",
       "    <tr>\n",
       "      <th>2024-12-30</th>\n",
       "      <td>-0.013263</td>\n",
       "      <td>-0.011412</td>\n",
       "      <td>0.004628</td>\n",
       "    </tr>\n",
       "  </tbody>\n",
       "</table>\n",
       "<p>250 rows × 3 columns</p>\n",
       "</div>"
      ],
      "text/plain": [
       "Ticker          AAPL       SPY      VCRB\n",
       "Date                                    \n",
       "2024-01-03 -0.007488 -0.008167  0.001545\n",
       "2024-01-04 -0.012700 -0.003221 -0.006533\n",
       "2024-01-05 -0.004013  0.001370 -0.002610\n",
       "2024-01-08  0.024175  0.014276  0.005233\n",
       "2024-01-09 -0.002263 -0.001517 -0.001666\n",
       "...              ...       ...       ...\n",
       "2024-12-23  0.003065  0.005988 -0.003018\n",
       "2024-12-24  0.011478  0.011115  0.000688\n",
       "2024-12-26  0.003176  0.000067  0.001521\n",
       "2024-12-27 -0.013242 -0.010527 -0.001518\n",
       "2024-12-30 -0.013263 -0.011412  0.004628\n",
       "\n",
       "[250 rows x 3 columns]"
      ]
     },
     "execution_count": 15,
     "metadata": {},
     "output_type": "execute_result"
    }
   ],
   "source": [
    "# Step 1: Calculate daily returns\n",
    "returns = data.pct_change().dropna()\n",
    "returns"
   ]
  },
  {
   "cell_type": "code",
   "execution_count": 16,
   "id": "f07f0e08-6efd-4425-a8f5-7b62372a1117",
   "metadata": {},
   "outputs": [
    {
     "name": "stdout",
     "output_type": "stream",
     "text": [
      "Ticker\n",
      "AAPL    0.001345\n",
      "SPY     0.000958\n",
      "VCRB    0.000118\n",
      "dtype: float64\n",
      "Ticker      AAPL       SPY      VCRB\n",
      "Ticker                              \n",
      "AAPL    0.000200  0.000060  0.000007\n",
      "SPY     0.000060  0.000063  0.000003\n",
      "VCRB    0.000007  0.000003  0.000011\n"
     ]
    }
   ],
   "source": [
    "# Step 2: Calculate mean returns and covariance matrix\n",
    "mean_returns = returns.mean()\n",
    "cov_matrix = returns.cov()\n",
    "print(mean_returns)\n",
    "print(cov_matrix)"
   ]
  },
  {
   "cell_type": "code",
   "execution_count": 17,
   "id": "062412e9-4dfe-455d-b1ad-b4767b07a672",
   "metadata": {},
   "outputs": [],
   "source": [
    "# Step 3: Define simulation parameters\n",
    "num_simulations = 50000  # Number of Monte Carlo simulations\n",
    "num_days = 1  # 1 trading day for daily VaR\n",
    "confidence_level = 0.95\n",
    "\n",
    "# Step 4: Simulate portfolio returns using Monte Carlo method\n",
    "simulated_returns = np.zeros(num_simulations)\n",
    "\n",
    "for i in range(num_simulations):\n",
    "    # Generate random returns based on the mean and covariance matrix\n",
    "    daily_simulated_returns = np.random.multivariate_normal(mean_returns, cov_matrix, num_days)\n",
    "    # Sum up the daily returns to get the daily return for this simulation\n",
    "    simulated_returns[i] = np.sum(daily_simulated_returns @ weights)"
   ]
  },
  {
   "cell_type": "code",
   "execution_count": 18,
   "id": "4c15376c-0888-4690-8f60-e30bb8dc4b2e",
   "metadata": {},
   "outputs": [
    {
     "name": "stdout",
     "output_type": "stream",
     "text": [
      "Step 3: Monte Carlo Simulation VaR Calculation\n",
      "Monte Carlo VaR (95% confidence) for 1 day: 1.0357%\n"
     ]
    }
   ],
   "source": [
    "# Step 5: Sort the simulated returns and calculate the VaR at the 5th percentile\n",
    "sorted_simulated_returns = np.sort(simulated_returns)\n",
    "var_percentile_index = int((1 - confidence_level) * num_simulations)\n",
    "monte_carlo_var = -sorted_simulated_returns[var_percentile_index]\n",
    "\n",
    "# Step 6: Print the results\n",
    "print(f\"Step 3: Monte Carlo Simulation VaR Calculation\")\n",
    "print(f\"Monte Carlo VaR (95% confidence) for 1 day: {monte_carlo_var:.4%}\")"
   ]
  },
  {
   "cell_type": "markdown",
   "id": "dbe3feb0-9735-4659-bcbe-6bd90e9bd155",
   "metadata": {},
   "source": [
    "This means that using the monte carlo simulation method our 5% VaR for the portfolio is 1.0357%. Or that there is a 5% chance of losing at least 51,785 in a single trading day. "
   ]
  },
  {
   "cell_type": "markdown",
   "id": "a00110f4-e199-4814-a43c-da5342c0b635",
   "metadata": {},
   "source": [
    "Now lets find the monthly VaR instead. "
   ]
  },
  {
   "cell_type": "code",
   "execution_count": 19,
   "id": "0344009c-5858-4511-a37f-145e5352e133",
   "metadata": {},
   "outputs": [
    {
     "name": "stdout",
     "output_type": "stream",
     "text": [
      "Monte Carlo Monthly VaR (95% confidence) for 1 month: 4.6317%\n"
     ]
    }
   ],
   "source": [
    "# Step 1: Scale the daily returns to monthly by multiplying by sqrt(20)\n",
    "num_days_in_month = 20  # Assuming 20 trading days in a month\n",
    "monthly_simulated_returns = simulated_returns * np.sqrt(num_days_in_month)\n",
    "\n",
    "# Step 2: Sort the monthly simulated returns and calculate the VaR at the 5th percentile\n",
    "sorted_monthly_simulated_returns = np.sort(monthly_simulated_returns)\n",
    "var_percentile_index_monthly = int((1 - confidence_level) * num_simulations)\n",
    "monte_carlo_monthly_var = -sorted_monthly_simulated_returns[var_percentile_index_monthly]\n",
    "\n",
    "# Step 3: Print the monthly VaR result\n",
    "print(f\"Monte Carlo Monthly VaR (95% confidence) for 1 month: {monte_carlo_monthly_var:.4%}\")\n"
   ]
  },
  {
   "cell_type": "markdown",
   "id": "fe5427c4-5d83-4847-a446-d9158fedc2a6",
   "metadata": {},
   "source": [
    "This means that using the Monte Carlo simulation method our 5% VaR for the portfolio is 4.6317%. Or that there is a 5% chance of losing at least 231,585 in a given month."
   ]
  },
  {
   "cell_type": "markdown",
   "id": "27fb34b1-e52f-4771-902c-c154d71383c6",
   "metadata": {},
   "source": [
    "Comparing between the three different methods: "
   ]
  },
  {
   "cell_type": "markdown",
   "id": "9654451d-d08b-43a7-9c86-c07f56a5bb2a",
   "metadata": {},
   "source": [
    "Daily VaR values - 1.03% (parametric), 1.0973% (historic), 1.0357% (Monte Carlo). "
   ]
  },
  {
   "cell_type": "markdown",
   "id": "c2d1fada-9213-471a-8dc5-0adf7eef9176",
   "metadata": {},
   "source": [
    "Monthly VaR values - 3.36% (parametric), 2.2901% (historic), 4.6317% (Monte Carlo). "
   ]
  },
  {
   "cell_type": "markdown",
   "id": "cf20ae06-0561-47c1-bec7-7fcf27720ace",
   "metadata": {},
   "source": [
    "VaR has many benefits and pitfalls. It is extremely easy to compute and understand, explaining it to someone without a strong finanace background is very feasible. There are several methods so you can compare the potential outcomes and make a better decision.\n",
    "However there are some problems with finding / using VaR. In this specific project there are some potential reasons behind the gaps. "
   ]
  },
  {
   "cell_type": "markdown",
   "id": "5ef10615-5568-4315-b4d8-6f9bce45061d",
   "metadata": {},
   "source": [
    "1) Distrubition assumptions:  Parametric method assumes normal distribution, which may not fully capture extreme market moves. Monte Carlo can model non-normal distributions (IE fat tails) so it can produce higher VaR values, especially in the monthly time frame. "
   ]
  },
  {
   "cell_type": "markdown",
   "id": "cd61634b-5961-47a8-9eea-c206d6c1b716",
   "metadata": {},
   "source": [
    "2) Historical data period: the period chosen could've included market downturn or extreme volatility events. Historical VaR directly uses observed data, and if this data does not represent extreme events (e.g., a period of relative calm), the VaR estimate will be lower than the one based on parametric or Monte Carlo simulations. "
   ]
  },
  {
   "cell_type": "markdown",
   "id": "1e7e7d26-0e44-4dd7-82ce-7279cb1d8bd1",
   "metadata": {},
   "source": [
    "3) Time horizon scaling: The scaling of VaR from daily to monthly in the parametric method assumes that volatility is constant over time, which may not hold true in real markets. Monte Carlo simulations model this more flexibly and may produce more extreme estimates of future risk. "
   ]
  },
  {
   "cell_type": "markdown",
   "id": "5e77bbb5-7f08-4bb9-980d-7b5ad4fe2b6b",
   "metadata": {},
   "source": [
    "4) Simulation Number: If Monte Carlo simulation uses a large number of trials (e.g., 10,000+ simulations), it might catch extreme events better, leading to a higher VaR estimate, especially when compared to historical data that might not include such events."
   ]
  }
 ],
 "metadata": {
  "kernelspec": {
   "display_name": "Python 3 (ipykernel)",
   "language": "python",
   "name": "python3"
  },
  "language_info": {
   "codemirror_mode": {
    "name": "ipython",
    "version": 3
   },
   "file_extension": ".py",
   "mimetype": "text/x-python",
   "name": "python",
   "nbconvert_exporter": "python",
   "pygments_lexer": "ipython3",
   "version": "3.11.7"
  }
 },
 "nbformat": 4,
 "nbformat_minor": 5
}
